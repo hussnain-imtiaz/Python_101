{
 "cells": [
  {
   "cell_type": "markdown",
   "id": "6b42fc70",
   "metadata": {},
   "source": [
    "### My first notebook \n",
    "We will learn how to work with jupyter today.\n",
    "\n",
    "##### Let's learn some shortcut keys\n",
    "1. run a cell - shift+enter\n",
    "2. convert a cell (code to markdown) esc(command mode) then 'm'.\n",
    "3. convert a cell (markdown to code) esc(command mode) then 'y'.\n",
    "4. create a new cell - above (esc then 'a')\n",
    "4. create a new cell - below (esc then 'b')"
   ]
  },
  {
   "cell_type": "markdown",
   "id": "7c989833",
   "metadata": {},
   "source": [
    "## Let's say hello to world\n",
    "##### print()"
   ]
  },
  {
   "cell_type": "code",
   "execution_count": 7,
   "id": "59124da0",
   "metadata": {},
   "outputs": [
    {
     "name": "stdout",
     "output_type": "stream",
     "text": [
      "Hello world!!\n"
     ]
    }
   ],
   "source": [
    "print('Hello world!!')"
   ]
  },
  {
   "cell_type": "code",
   "execution_count": null,
   "id": "4bd0d66b",
   "metadata": {},
   "outputs": [],
   "source": []
  },
  {
   "cell_type": "code",
   "execution_count": null,
   "id": "a5be6a81",
   "metadata": {},
   "outputs": [],
   "source": []
  },
  {
   "cell_type": "code",
   "execution_count": null,
   "id": "a1f74f3c",
   "metadata": {},
   "outputs": [],
   "source": []
  }
 ],
 "metadata": {
  "kernelspec": {
   "display_name": "Python 3 (ipykernel)",
   "language": "python",
   "name": "python3"
  },
  "language_info": {
   "codemirror_mode": {
    "name": "ipython",
    "version": 3
   },
   "file_extension": ".py",
   "mimetype": "text/x-python",
   "name": "python",
   "nbconvert_exporter": "python",
   "pygments_lexer": "ipython3",
   "version": "3.7.11"
  }
 },
 "nbformat": 4,
 "nbformat_minor": 5
}
